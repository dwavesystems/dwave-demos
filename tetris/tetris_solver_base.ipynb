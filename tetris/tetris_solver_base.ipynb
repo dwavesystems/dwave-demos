{
 "cells": [
  {
   "cell_type": "markdown",
   "metadata": {},
   "source": [
    "# Solving Tetris with D-Wave\n",
    "\n",
    "### In this notebook I attempt to use the D-Wave qpu to generate where to place the next shape in the popular game tetris"
   ]
  },
  {
   "cell_type": "markdown",
   "metadata": {},
   "source": [
    "### This first cell loads a  python Tetris clone Tetomino with a few modifications and added functions to take input from the D_Wave QPU after the first piece is placed"
   ]
  },
  {
   "cell_type": "code",
   "execution_count": null,
   "metadata": {},
   "outputs": [],
   "source": [
    "from tetris import *"
   ]
  },
  {
   "cell_type": "markdown",
   "metadata": {},
   "source": [
    "### In the cells below I define my helper functions in order to check the contraints and generate my h and J values"
   ]
  },
  {
   "cell_type": "code",
   "execution_count": null,
   "metadata": {},
   "outputs": [],
   "source": [
    "def check_constraints(results,board,piece,h,static,include_lowest=True):# goes through all samples in results and returns first \n",
    "    df = results.to_pandas_dataframe()              #valid sample. if none found returns false\n",
    "    for key,value in static.items():\n",
    "        df[key]=[value]*len(df)\n",
    "\n",
    "    of_interst = []\n",
    "    for i,row in df[list({**h,**static}.keys())].iterrows():\n",
    "        if sum(row.values)==num_empty(board)-num_full(board)-8:\n",
    "                of_interst.append(i)\n",
    "    df = df[list({**h,**static}.keys())].iloc[of_interst]\n",
    "    samples_with_4_flip = [dict(row) for i,row in df.iterrows()] \n",
    "    flipped = [find_fliped_vars(x,{**h,**static}) for x in samples_with_4_flip]\n",
    "    samples_with_4_flip = [samp for samp,flip in zip(samples_with_4_flip,flipped) if len(flip)==4]\n",
    "    flipped = [x for x in flipped if len(x)==4]\n",
    "    if len(samples_with_4_flip)>0:\n",
    "        for i,x in enumerate(samples_with_4_flip):\n",
    "            if include_lowest:\n",
    "                if is_shape_sample(x,board,piece,flipped[i]) and is_lowest_sample(x):\n",
    "                    return x   \n",
    "            else:\n",
    "                if is_shape_sample(x,board,piece,flipped[i]):\n",
    "                    return x  \n",
    "                \n",
    "    return False\n",
    "\n",
    "def coord_to_x_rot(coords,piece):# takes the coordinates from flipped and returns the x translation and\n",
    "    shape = piece['shape']      # rotation in tuple format\n",
    "    xpos = piece['x']\n",
    "    rotation = piece['rotation']\n",
    "    correction ={'S': {0: 1, 1: 2},\n",
    "                 'Z': {0: 1, 1: 1},\n",
    "                 'J': {0: 1, 1: 2, 2: 1, 3: 1},\n",
    "                 'L': {0: 1, 1: 2, 2: 1, 3: 1},\n",
    "                 'I': {0: 2, 1: 0},\n",
    "                 'O': {0: 1},\n",
    "                 'T': {0: 1, 1: 2, 2: 1, 3: 1}}\n",
    "    valid = shape_to_valid_coord_set(eval(shape+'_SHAPE_TEMPLATE'))\n",
    "    initial_rot_coords = valid[rotation]\n",
    "    final_rot = None\n",
    "    var_to_grid = [tuple(map(int,var.split('_'))) for var in coords]\n",
    "    var_min_X = min([s[0] for s in var_to_grid])\n",
    "    var_min_Y = min([s[1] for s in var_to_grid])\n",
    "    var_patternx = [s[0]-var_min_X for s in var_to_grid] \n",
    "    var_patterny = [s[1]-var_min_Y for s in var_to_grid]\n",
    "\n",
    "    for i,shap in enumerate(valid):\n",
    "        min_X=min([s[0] for s in shap])\n",
    "        min_Y=min([s[1] for s in shap])\n",
    "        patternx = [s[0]-min_X for s in shap]\n",
    "        patterny = [s[1]-min_Y for s in shap]\n",
    "        if patternx==var_patternx and patterny==var_patterny:\n",
    "            print(\"looped \",i,' times')\n",
    "            final_rot = i \n",
    "            break\n",
    "        else:\n",
    "            final_rot=0\n",
    "    if shape is 'O':\n",
    "        rotate = 0\n",
    "        corr = 1\n",
    "        rot_coords_diff =min([x[0] for x in var_to_grid])-min([x[0] for x in initial_rot_coords])\n",
    "        x_translate =rot_coords_diff-xpos+corr\n",
    "    elif shape in ['T','L','J']:\n",
    "        rotate = len(valid)-1 if final_rot==0 else final_rot-1 \n",
    "        corr= correction[shape][rotate]  \n",
    "        rot_coords_diff =min([x[0] for x in var_to_grid])-min([x[0] for x in initial_rot_coords])\n",
    "        x_translate =rot_coords_diff-xpos\n",
    "    elif shape in ['S','Z','I']:\n",
    "        rotate = len(valid)-1 if final_rot==0 else final_rot-1 \n",
    "        corr= correction[shape][rotate]  \n",
    "        rot_coords_diff =min([x[0] for x in var_to_grid])-min([x[0] for x in initial_rot_coords])\n",
    "        x_translate =rot_coords_diff-xpos+corr\n",
    "    return(x_translate,rotate)"
   ]
  },
  {
   "cell_type": "code",
   "execution_count": null,
   "metadata": {},
   "outputs": [],
   "source": [
    "def generate_h(board,piece,embedding):# generates an h with only non fixed varaibles and no J \n",
    "    board_full = [ro [::-1]for ro in board]\n",
    "    max_height = max([j for i,val in enumerate(board_full) for j,x in enumerate(val) if isinstance(x,int)])\n",
    "    if max_height <=4:\n",
    "        max_height=4\n",
    "    else:\n",
    "        max_height = max_height\n",
    "        \n",
    "    max_width = max([i for i,val in enumerate(board_full) for j,x in enumerate(val) if isinstance(x,int)])\n",
    "    if max_width <=5:\n",
    "        max_width=max_width+4\n",
    "    else:\n",
    "        max_width =9\n",
    "    board_ = [ro[:max_height] for ro in board_full][:max_width]\n",
    "#     shape = PIECES[piece['shape']][piece['rotation']]\n",
    "#     coords = shape_to_valid_coord_set([shape])\n",
    "#     coord_combos = valid_coord_to_cobo(coords,board)\n",
    "    h={}\n",
    "    for x in range(max_width):\n",
    "        for y in range(max_height):\n",
    "             if isinstance(board_[x][y],str):\n",
    "                    h.update({f'{x}_{y}':-y/max_height})\n",
    "        \n",
    "    static = {}\n",
    "    for x in range(max_width):\n",
    "        for y in range(max_height):\n",
    "            if isinstance(board_[x][y],int) and f'{x}_{y}' not in h.keys():\n",
    "                static.update({f'{x}_{y}':-1})\n",
    "    for var in embedding.keys():\n",
    "        if var in h.keys():\n",
    "            continue\n",
    "        x,y = map(int,var.split('_'))\n",
    "        if isinstance(board_full[x][y],int):\n",
    "            static.update({f'{x}_{y}':-1})\n",
    "        else:\n",
    "            static.update({f'{x}_{y}':1})\n",
    "    return h,{},static"
   ]
  },
  {
   "cell_type": "markdown",
   "metadata": {},
   "source": [
    "### Now we can launch tetromino and once we place the first piece the QPU will hopefully do the rest"
   ]
  },
  {
   "cell_type": "code",
   "execution_count": null,
   "metadata": {},
   "outputs": [],
   "source": [
    "sampler = DWaveSampler(solver=\"2000Q_2_1\",token='Replace with leap API token')\n",
    "\n",
    "DW_PARAMS=dict(num_reads=1000,answer_mode='histogram',postprocess='sampling')\n",
    "main(generate_h,sampler,DW_PARAMS,check_constraints,coord_to_x_rot)# this will launch another window"
   ]
  },
  {
   "cell_type": "code",
   "execution_count": null,
   "metadata": {},
   "outputs": [],
   "source": []
  },
  {
   "cell_type": "markdown",
   "metadata": {},
   "source": [
    "### If you wanted to test any custom board layouts with the function above you can do so with the cells below"
   ]
  },
  {
   "cell_type": "code",
   "execution_count": null,
   "metadata": {},
   "outputs": [],
   "source": [
    "board = [['.', '.', '.', '.', '.', '.', '.', '.', '.', '.', '.', '.', '.',\n",
    "        '.', '.', '.', '.', '.', '.', '.'],\n",
    "       ['.', '.', '.', '.', '.', '.', '.', '.', '.', '.', '.', '.', '.',\n",
    "        '.', '.', '.', '.', '.', '.', '.'],\n",
    "       ['.', '.', '.', '.', '.', '.', '.', '.', '.', '.', '.', '.', '.',\n",
    "        '.', '.', '.', '.', '.', '.', '.'],\n",
    "       ['.', '.', '.', '.', '.', '.', '.', '.', '.', '.', '.', '.', '.',\n",
    "        '.', '.', '.', '.', '.', '.', 1],\n",
    "       ['.', '.', '.', '.', '.', '.', '.', '.', '.', '.', '.', '.', '.',\n",
    "        '.', '.', '.', '.', '.', 1, 1],\n",
    "       ['.', '.', '.', '.', '.', '.', '.', '.', '.', '.', '.', '.', '.',\n",
    "        '.', '.', '.', '.', '.', '.', 1],\n",
    "       ['.', '.', '.', '.', '.', '.', '.', '.', '.', '.', '.', '.', '.',\n",
    "        '.', '.', '.', '.', '.', '.', 1],\n",
    "       ['.', '.', '.', '.', '.', '.', '.', '.', '.', '.', '.', '.', '.',\n",
    "        '.', '.', '.', '.', '.', '.', 1],\n",
    "       ['.', '.', '.', '.', '.', '.', '.', '.', '.', '.', '.', '.', '.',\n",
    "        '.', '.', '.', '.', '.', '.', 1],\n",
    "       ['.', '.', '.', '.', '.', '.', '.'\n",
    "        , '.', '.', '.', '.', '.', '.',\n",
    "        '.', '.', '.', '.', '.', '.', 1]]\n",
    "fallingPiece = getNewPiece()\n",
    "fallingPiece\n",
    "\n",
    "\n"
   ]
  },
  {
   "cell_type": "code",
   "execution_count": null,
   "metadata": {},
   "outputs": [],
   "source": []
  }
 ],
 "metadata": {
  "kernelspec": {
   "display_name": "Python 3",
   "language": "python",
   "name": "python3"
  },
  "language_info": {
   "codemirror_mode": {
    "name": "ipython",
    "version": 3
   },
   "file_extension": ".py",
   "mimetype": "text/x-python",
   "name": "python",
   "nbconvert_exporter": "python",
   "pygments_lexer": "ipython3",
   "version": "3.6.8"
  }
 },
 "nbformat": 4,
 "nbformat_minor": 2
}
